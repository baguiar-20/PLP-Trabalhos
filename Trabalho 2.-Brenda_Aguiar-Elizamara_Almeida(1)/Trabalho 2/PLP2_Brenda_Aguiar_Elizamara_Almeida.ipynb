{
 "cells": [
  {
   "cell_type": "markdown",
   "metadata": {},
   "source": [
    "## Lista de Exercícios de Linguagens de Programação II"
   ]
  },
  {
   "cell_type": "markdown",
   "metadata": {},
   "source": [
    "Nome: Brenda Aguiar, Elizamara Almeida"
   ]
  },
  {
   "cell_type": "markdown",
   "metadata": {},
   "source": [
    "#### __Teoria__"
   ]
  },
  {
   "cell_type": "markdown",
   "metadata": {},
   "source": [
    "__1) Quais as principais caracteristicas de linguagens para objetos?__\n",
    "\n",
    "R: As principais caracteristicas das linguagens OO são: abstração, encapsulamento, herança e polimorfismo."
   ]
  },
  {
   "cell_type": "markdown",
   "metadata": {},
   "source": [
    "__2)Quais os objetivos a serem alcançados com herança?__\n",
    "\n",
    "R: Herança, na prática, significa a possibilidade de construir objetos especializados que herdam as características de objetos mais generalistas, ou ainda, a herança é uma maneira de reutilizar código a medida que podemos aproveitar os atributos e métodos de classes já existentes para gerar novas classes mais específicas que aproveitarão os recursos da classe \"hierarquicamente superior\". \n",
    "\n",
    "Como no codigo da questão 7: Utilizamos as classes Quadrado e Circulo que herdam a classe Desenha."
   ]
  },
  {
   "cell_type": "markdown",
   "metadata": {},
   "source": [
    "__3) Qual a diferença entre herança de classes concretas e abstratas?__\n",
    "\n",
    "\n",
    "R: \n",
    "* Classe concreta: É uma classe que pode ser instanciada diretamente.\n",
    "   \n",
    "   \n",
    "   * Classe abstrata: É uma classe que não pode ser instanciada diretamente.  \n"
   ]
  },
  {
   "cell_type": "markdown",
   "metadata": {},
   "source": [
    "__4) Entre herança e composição, porque atualmente se incentiva a segunda como forma de obter reuso de código?__\n",
    "\n",
    "R: A grande vantagem da Composição é que o comportamento pode ser escolhido em tempo de execução em vez de estar amarrado em tempo de compilação. Além disso, os objetos que foram instanciados e estão contidos na classe que os instanciou são acessados somente através de sua interface seguindo assim o princípio de programar para uma interface e não para uma implementação. A composição também apresenta uma menor dependência de implementações e temos cada classe focada em apenas uma tarefa seguindo outro principio da responsabilidade única. Portanto, a composição também tem um bom encapsulamento onde os detalhes internos dos objetos instanciados não são visíveis.\n",
    "\n",
    "A Herança, onde os codigos são \"herdados\", nos dá uma maior dificuldade de manutenção."
   ]
  },
  {
   "cell_type": "markdown",
   "metadata": {},
   "source": [
    "__5) O que é programação orientada a aspectos (POA)?__\n",
    "\n",
    "\n",
    "R: Programação orientada a aspectos ou POA, é um paradigma de programação de computadores que permite aos desenvolvedores de software separar e organizar o código de acordo com a sua importância para a aplicação."
   ]
  },
  {
   "cell_type": "markdown",
   "metadata": {},
   "source": [
    "__6) Qual a diferença entre linguagens reflexivas e introspectivas?__\n",
    "\n",
    "\n",
    "R: A linguagem reflexiva é a atividade numa computação que permite que um objeto obtenha informações sobre sua estrutura e sobre os motivos de sua computação. A linguagem de introspecção de tipos é a capacidade de um programa examinar o tipo ou as propriedades de um objeto em tempo de execução. Algumas linguagens de programação possuem esse recurso. A introspecção não deve ser confundida com a reflexão, que vai um passo além e, é a capacidade de um programa manipular os valores, metadados, propriedades e/ou funções de um objeto em tempo de execução. Algumas linguagens de programação também possuem essa capacidade, por exemplo, Java, Python, Julia e Go."
   ]
  },
  {
   "cell_type": "markdown",
   "metadata": {},
   "source": [
    "#### __Programação OO__"
   ]
  },
  {
   "cell_type": "markdown",
   "metadata": {},
   "source": [
    "__7) Implemente um servidor socket em Python OO para manipulação de figuras geométricas em um grid gráfico em ambiente X. Seu servidor deve iniciar um grid de 5x5 células, como visto na figura abaixo, e esperar por requisições para criação, remoção e movimentação de figuras. Mais especificamente, o servidor deve reconhecer os seguintes comandos enviados por clientes socket:__"
   ]
  },
  {
   "cell_type": "markdown",
   "metadata": {},
   "source": [
    "* (+ id) F C X Y: criar figura com identificador id (inteiro), forma F (s para quadrado e c para circulo), cor C (pelo menos, black, red, green e blue) e coordenadas X e Y (inteiros de 0 a 4).\n",
    "* (- id): apagar figura identificada por id.\n",
    "* m id X Y: mover figura identificada por id para coordenadas X e Y."
   ]
  },
  {
   "cell_type": "markdown",
   "metadata": {},
   "source": [
    "Os comandos podem opcionalmente não fazer referencia explicita aos identificadores. Neste caso, identificadores adequados devem ser criados implicitamente. "
   ]
  },
  {
   "cell_type": "markdown",
   "metadata": {},
   "source": [
    "* (+ F C X Y): criar figura com forma F, cor C e coordenadas X e Y.\n",
    "* (- F C): apagar figura identificada por F C.\n",
    "* m F C X Y: mover figura identificada por F C para coordenadas X e Y."
   ]
  },
  {
   "cell_type": "markdown",
   "metadata": {},
   "source": [
    "__Codigo em outro arquivo__"
   ]
  },
  {
   "cell_type": "markdown",
   "metadata": {},
   "source": [
    "__8) Baseado em sua experiência com Python OO, a compare com Python Funcional, considerando os seguintes critérios:__"
   ]
  },
  {
   "cell_type": "markdown",
   "metadata": {},
   "source": [
    "a. Simplicidade, Ortogonalidade, Tipos de Dados, Projeto de Sintaxe, Suporte à Abstração, Expressividade, Checagem de Tipos, Manipulação de Exceções e Restrição de Aliases.\n",
    "\n",
    "* __Simplicidade:__ \n",
    "“Linguagens com menos operadores e verbosidade tendem a ser mais fácil o entendimento e a leitura.“\n",
    "Inicialmente, tem-se um estranhamento com a linguagem usando POO, porém, quanto mais se aprende mais fica fácil notar um grau de simplicidade. Usando o Paradigma Funcional, existe uma dificuldade do programador iniciante, por que ela é simples mas tem pouca legibilidade, ou seja, o código em paradigma funcional demanda um pouco mais de esforço para entender.\n",
    "\n",
    "\n",
    "* __Ortogonalidade:__ “A falta de ortogonalidade em uma linguagem leva a exceções às regras da linguagem.” Dependendo do paradigma utilizado no Python a ortogonalidade pode ou não ser utilizada. Por exemplo, é mais provalvel ser identificada em POO, por usar heranças(classes herdandos atributos e funcoes de outras classes), do que o PF ao utilizar funçoes que chamam outras funcões. \n",
    "\n",
    "\n",
    "* __Tipos de dados:__ “A presença de mecanismos adequados para definir tipos e estruturas de dados, isso é significativo à legibilidade.” Sim, Python tem mecanismos adequados para a definição de tipos e em muitos casos não é necessário declarar explicitamente. Já em POO tem que declarar o “self” se tornando rigoroso nesse critério.\n",
    "\n",
    "* __Projeto de Sintaxe:__ \"Conceito bom para uma boa escrita e ex são indentação, blocos , como se escreve certas coisas tipo os ifs.“ O Python é uma linguagem um pouco simples logo sua sintaxe também, com os ifs e elifs e a rigorosa na indentação, portanto, dependendo do paradigma ultizado, sua sintaxe é bem simples. \n",
    "\n",
    "* __Suporte a Abstração:__ \n",
    "“Abstração: capacidade de definir e, depois usar estruturas ou operações complicadas de uma maneira que seja possível ignorar muito do detalhes. Exemplo disso, é o uso de funções de bibliotecas; Abstração de processo: algoritmos em geral; Abstração de dados:  tipos de dados e estruturas de dados.\" Melhorar a modelagem do mundo real. Facilita processos de generalização de conceitos e padrões de código para o paradigma funcional. Temos uma certa distância, pois a identificação ou o entendimento do programa é através da nomeação das funções. Assim a modelagem do mundo real é mais dificultosa, visto que, se pensa em passos a serem seguidos porém que não são explícitos ao serem escritos em funcional. Já em POO isso se torna mais intuitivo e tem esse objetivo de chegar mais perto do mundo real.\n",
    "\n",
    "\n",
    "* __Expressividade:__ “Formas convenientes de especificar computações, onde uma expressão representa muitas computações.” Como já dito, Python foi pensado justamente em facilitar a vida do programador, por ser multiparadigma, sua forma de se escrever, ler e de entender (questoes bastante importantes) simplificado, contribuem para ele ser expressivo.\n",
    "\n",
    "* __Checagem de tipos:__ “Programação estática e dinâmica, resolve antes da execução e a o outra não.“ No Python, ao printar uma mensagem, ele apresenta um erro se concatenar com um inteiro(apesar de ele ser do tipo de linguagem de declação tanto explícita quando implícita) como por exemplo:a = 1; x = 'x=' + a. Isso vale tanto para POO quanto para PF.\n",
    "\n",
    "\n",
    "* __Manipulação de Exceções:__ “A capacidade de identificar os erros durante a execução de um programa.“\n",
    "O Python tem esse tratamento tanto para funcional quanto para orientado a objetos. Quando o programa é executado logo é identificado o erro, a mensagem mostrada usando orientação a objetos é de “ValueError”. \n",
    "\n",
    "* __Restrição de Aliases:__ “O conceito de aliases de Python e o método de chamada (por referência) esconde bem os ponteiros.“ No Joguinho Maroto na questão 7, o Python pode fazer referencia com ponteiros implicitamente, não como a linguagem em C, assim guardamos as figuras em listas de tuplas, ultilizamos mais em POO.\n",
    "\n",
    "\n",
    "\n",
    "\n"
   ]
  },
  {
   "cell_type": "markdown",
   "metadata": {},
   "source": [
    "b. Legibilidade, escrita e confiabilidade.\n",
    "\n",
    "* __Legibilidade:__ “Facilidade de ler e entender a linguagem”. \n",
    "\n",
    "Independente do paradigma utilizado.\n",
    "* Simplicidade. \n",
    "* Ortogonalidade. \n",
    "* Tipos de dados \n",
    "* Projeto de sintaxe \n",
    "\n",
    "\n",
    "* __Escrita:__ “A capacidade de escrita é a medida da facilidade em que uma linguagem pode ser usada para criar programas para um domínio de problema escolhida”\n",
    "* Simplicidade \n",
    "* Tipos de dados \n",
    "* Projeto de sintaxe \n",
    "* Suporte a abstração \n",
    "* Expressividade \n",
    "\n",
    "\n",
    "* __Confiabilidade:__“Um programa é confiável se ele se comportar de acordo com suas especificações sob todas as condições.”\n",
    "* Tem confiabilidade tendo em vista que os dois paradigmas atendem a todos os critérios de avaliação citados anteriormente.\n"
   ]
  },
  {
   "cell_type": "code",
   "execution_count": null,
   "metadata": {},
   "outputs": [],
   "source": []
  }
 ],
 "metadata": {
  "kernelspec": {
   "display_name": "Python 3",
   "language": "python",
   "name": "python3"
  },
  "language_info": {
   "codemirror_mode": {
    "name": "ipython",
    "version": 3
   },
   "file_extension": ".py",
   "mimetype": "text/x-python",
   "name": "python",
   "nbconvert_exporter": "python",
   "pygments_lexer": "ipython3",
   "version": "3.7.3"
  }
 },
 "nbformat": 4,
 "nbformat_minor": 2
}
