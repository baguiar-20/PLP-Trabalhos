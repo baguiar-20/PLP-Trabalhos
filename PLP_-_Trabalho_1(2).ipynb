{
 "cells": [
  {
   "cell_type": "markdown",
   "metadata": {},
   "source": [
    "## **1° Trabalho de Paradigmas de Linguagens de Programação**\n"
   ]
  },
  {
   "cell_type": "markdown",
   "metadata": {},
   "source": [
    "<font color=orange>Nomes: Brenda Aguiar, Elizamara Almeida</font> "
   ]
  },
  {
   "cell_type": "markdown",
   "metadata": {},
   "source": [
    "**Funcional**"
   ]
  },
  {
   "cell_type": "markdown",
   "metadata": {},
   "source": [
    "#### 1) Defina os seguintes conceitos como são compreendidos no paradigma funcional:"
   ]
  },
  {
   "cell_type": "markdown",
   "metadata": {},
   "source": [
    "##### a) Funcoes anonimas:"
   ]
  },
  {
   "cell_type": "markdown",
   "metadata": {},
   "source": [
    " A finalidade de uma função anônima é exatamente a de permitir passá-la como se fosse um objeto qualquer, que você pode atribuir a uma variável, independentemente de haver um nome para a função. Proteger variáveis contra mal uso, é uma das finalidades que acabou se encontrando para funções anônimas"
   ]
  },
  {
   "cell_type": "markdown",
   "metadata": {},
   "source": [
    "##### b) Funcoes de primeira classe:"
   ]
  },
  {
   "cell_type": "markdown",
   "metadata": {},
   "source": [
    " Uma linguagem tem funções de primeira classe, quando funções podem ser tratadas como valores que podem ser passados, manipulados, retornados... ou seja, é possível operar funções. Este conceito é um atributo da linguagem, ou ela tem ou não tem."
   ]
  },
  {
   "cell_type": "markdown",
   "metadata": {},
   "source": [
    "##### c) Funcoes de alta ordem: "
   ]
  },
  {
   "cell_type": "markdown",
   "metadata": {},
   "source": [
    "Função de alta ordem é uma função que recebe ou retorna uma função. Só é possível definir uma função de alta ordem, se a linguagem tem funções de primeira classe, pois é necessário que funções sejam \"passáveis\". Este conceito é um atributo da função, ou ela é ou não é."
   ]
  },
  {
   "cell_type": "markdown",
   "metadata": {},
   "source": [
    "##### d)Funcoes recursivas: "
   ]
  },
  {
   "cell_type": "markdown",
   "metadata": {},
   "source": [
    "Uma função recursiva é uma função que se refere a si própria. A ideia consiste em utilizar a própria função que estamos a definir na sua definição. Em todas as funções recursivas existe: Um passo básico (ou mais) cujo resultado é imediatamente conhecido"
   ]
  },
  {
   "cell_type": "markdown",
   "metadata": {},
   "source": [
    "##### e)Funcoes Puras: "
   ]
  },
  {
   "cell_type": "markdown",
   "metadata": {},
   "source": [
    "É uma função que dada a mesma entrada, sempre retornará a mesma saída e não tem efeitos colaterais. Sendo assim, é mais fácil de testar e fazer a manutenção. Como no exemplo acima, a função sempre retorna o mesmo valor baseado na entrada sem manipular nenhuma variável fora."
   ]
  },
  {
   "cell_type": "markdown",
   "metadata": {},
   "source": [
    "##### f) Avaliaçao Preguiçosa:"
   ]
  },
  {
   "cell_type": "markdown",
   "metadata": {},
   "source": [
    "Avaliação preguiçosa (também conhecida por avaliação atrasada) é uma técnica usada em programação para atrasar a computação até um ponto em que o resultado da computação é considerado suficiente, o necessário."
   ]
  },
  {
   "cell_type": "markdown",
   "metadata": {},
   "source": [
    "##### g) Iteradores:  "
   ]
  },
  {
   "cell_type": "markdown",
   "metadata": {},
   "source": [
    "Um iterador se refere tanto ao objeto que permite ao programador percorrer um container, (uma coleção de elementos) particularmente listas, quanto ao padrão de projetos Iterator, no qual um iterador é usado para percorrer um container e acessar seus elementos. "
   ]
  },
  {
   "cell_type": "markdown",
   "metadata": {},
   "source": [
    "##### h) Geradores ou streams :\n",
    "\n",
    "Funções geradoras são funções que nos retornam um iterável. Mas ele é lazy (só é computado quando invocado)."
   ]
  },
  {
   "cell_type": "markdown",
   "metadata": {},
   "source": [
    "#### 2) Usando LCs, defina a funcao enc_consonatal(palavra) que retorna o numero de encontros consanatais em palavra. Considere um encontro consonatal a ocorrencia de, pelo menos, duas consoantes em sequencia. Ex: enc_consonatal('teste') - 1; enc_consonatal('banana') = 0; "
   ]
  },
  {
   "cell_type": "code",
   "execution_count": 13,
   "metadata": {},
   "outputs": [],
   "source": [
    "#Usando LC\n",
    "vogais = ['a','e','i','o','u']\n",
    "\n",
    "def enc_consonantal(palavra):\n",
    "    soma = [1 for i in range(len(palavra)-1) if (palavra[i] not in vogais and palavra[i+1] not in vogais)]\n",
    "    return sum(soma)\n",
    "    \n",
    "    "
   ]
  },
  {
   "cell_type": "code",
   "execution_count": 14,
   "metadata": {},
   "outputs": [
    {
     "data": {
      "text/plain": [
       "2"
      ]
     },
     "execution_count": 14,
     "metadata": {},
     "output_type": "execute_result"
    }
   ],
   "source": [
    "palavra = 'mammma'\n",
    "enc_consonantal(palavra)"
   ]
  },
  {
   "cell_type": "markdown",
   "metadata": {},
   "source": [
    "#### 3) Defina a funcao maisQueKEnc(string) que retorna as palavras em string com mais que k encontros consonatais. Ex: maisQueKEnc('esse eh um trabalhinho mequetrefe', 1) = ['trabalhinho']. Dica: string.split() retorna uma lista onde cada elemento é uma palavra de string."
   ]
  },
  {
   "cell_type": "code",
   "execution_count": 16,
   "metadata": {},
   "outputs": [],
   "source": [
    "#Usando LC\n",
    "def maisQueKEnc(string,k):\n",
    "    palavra = string.split()\n",
    "    encontro = \" \"\n",
    "    encontro = [palavra[i] for i in range(len(palavra)-1) if(enc_consonantal(palavra[i]) > k)]\n",
    "    return encontro"
   ]
  },
  {
   "cell_type": "code",
   "execution_count": 18,
   "metadata": {},
   "outputs": [
    {
     "data": {
      "text/plain": [
       "'trabalhinho'"
      ]
     },
     "execution_count": 18,
     "metadata": {},
     "output_type": "execute_result"
    }
   ],
   "source": [
    "maisQueKEnc('esse eh um trabalhinho mequetrefe', 1)"
   ]
  },
  {
   "cell_type": "markdown",
   "metadata": {},
   "source": [
    "#### 4) Implemente a funcao pelo_menos_k que tem como parametro um limiar k, uma propriedade (descrita como uma funcao anonima) e uma lista e retorna TRUE se pelo menos k elementos na lista tem a propriedade. Ex: pelo_menos_k(len(1)/2, lambda k:k%2 == 0, [12,13,15,17,14])."
   ]
  },
  {
   "cell_type": "code",
   "execution_count": 22,
   "metadata": {},
   "outputs": [],
   "source": [
    "#Usando recursao e funcao lambda\n",
    "\n",
    "prop = lambda k:k%2 == 0  #true or false ...\n",
    "lista =  [12,13,15,17,14]   \n",
    "\n",
    "def  pelo_menos_k(k , prop, lista):\n",
    "    if lista ==[] :\n",
    "           return False\n",
    "    if contProp(prop, lista) < k : \n",
    "        return False \n",
    "    else : \n",
    "        return True\n",
    "\n",
    "def contProp(f, lst):\n",
    "    if lst==[] : return 0\n",
    "    if f(lst[0])== True: \n",
    "        return 1+ contProp(prop,lst[1:])\n",
    "    else : \n",
    "        return contProp(prop, lst[1:]) \n",
    "        "
   ]
  },
  {
   "cell_type": "code",
   "execution_count": 23,
   "metadata": {},
   "outputs": [
    {
     "data": {
      "text/plain": [
       "2"
      ]
     },
     "execution_count": 23,
     "metadata": {},
     "output_type": "execute_result"
    }
   ],
   "source": [
    "contProp(prop, lista)"
   ]
  },
  {
   "cell_type": "code",
   "execution_count": 24,
   "metadata": {},
   "outputs": [
    {
     "data": {
      "text/plain": [
       "True"
      ]
     },
     "execution_count": 24,
     "metadata": {},
     "output_type": "execute_result"
    }
   ],
   "source": [
    "\n",
    "pelo_menos_k(1, prop, lista)"
   ]
  },
  {
   "cell_type": "markdown",
   "metadata": {},
   "source": [
    "#### 5) Resolva os seguintes problemas em python, relacionados com o jogo de blackjack, usando o paradigma funcional."
   ]
  },
  {
   "cell_type": "markdown",
   "metadata": {},
   "source": [
    "##### a) Dadas as listas naipes = ['p', 'o', 'c', 'e'] (paus, ouros,copas e espada) e ranks = ['2','3','4','5', '6','7','8','9','10','J','Q','K','A'], crie uma lista que represente um baralho com 52 cartas representando como tuplas, usando uma LC. Ex: [('2','p'),('2','o'),('2','c'),('2','e')...].\n",
    "    "
   ]
  },
  {
   "cell_type": "code",
   "execution_count": 25,
   "metadata": {},
   "outputs": [],
   "source": [
    "#Usando LC\n",
    "naipes = ['p', 'o', 'c', 'e'] \n",
    "ranks = ['2','3','4','5', '6','7','8','9','10','J','Q','K','A'] \n",
    "\n",
    "baralho = [(ranks[i],naipes[j]) for i in range(len(ranks)) for j in range(len(naipes))]"
   ]
  },
  {
   "cell_type": "code",
   "execution_count": 26,
   "metadata": {},
   "outputs": [
    {
     "name": "stdout",
     "output_type": "stream",
     "text": [
      "[('2', 'p'), ('2', 'o'), ('2', 'c'), ('2', 'e'), ('3', 'p'), ('3', 'o'), ('3', 'c'), ('3', 'e'), ('4', 'p'), ('4', 'o'), ('4', 'c'), ('4', 'e'), ('5', 'p'), ('5', 'o'), ('5', 'c'), ('5', 'e'), ('6', 'p'), ('6', 'o'), ('6', 'c'), ('6', 'e'), ('7', 'p'), ('7', 'o'), ('7', 'c'), ('7', 'e'), ('8', 'p'), ('8', 'o'), ('8', 'c'), ('8', 'e'), ('9', 'p'), ('9', 'o'), ('9', 'c'), ('9', 'e'), ('10', 'p'), ('10', 'o'), ('10', 'c'), ('10', 'e'), ('J', 'p'), ('J', 'o'), ('J', 'c'), ('J', 'e'), ('Q', 'p'), ('Q', 'o'), ('Q', 'c'), ('Q', 'e'), ('K', 'p'), ('K', 'o'), ('K', 'c'), ('K', 'e'), ('A', 'p'), ('A', 'o'), ('A', 'c'), ('A', 'e')]\n"
     ]
    }
   ],
   "source": [
    "print(baralho)"
   ]
  },
  {
   "cell_type": "markdown",
   "metadata": {},
   "source": [
    "##### b) Crie uma funcao que dada um lista l e um valor k, retorne a lista l sem o k-esimo elemento. Ex: semElementoK([1,2,3], 1) = [1, 3]."
   ]
  },
  {
   "cell_type": "code",
   "execution_count": 30,
   "metadata": {},
   "outputs": [],
   "source": [
    "#Usando LC\n",
    "def semElementoK(l , k) :\n",
    "    return [l[i] for i in range(len(l)) if(i != k) ]"
   ]
  },
  {
   "cell_type": "code",
   "execution_count": 31,
   "metadata": {},
   "outputs": [
    {
     "data": {
      "text/plain": [
       "[1, 4, 6, 8]"
      ]
     },
     "execution_count": 31,
     "metadata": {},
     "output_type": "execute_result"
    }
   ],
   "source": [
    "semElementoK([1,4,6,2,8], 3)"
   ]
  },
  {
   "cell_type": "markdown",
   "metadata": {},
   "source": [
    "##### c) Crie uma função que dada a lista, retorne uma versão embaralhada da mesma. Ex: dequeEmbaralhado([1, 2, 3, 4, 5]) = [2, 3, 5, 1, 4], usando recursão e a função semElementoK. DIca: você pode criar uma lista embaralhada usando uma lista auxiliar. Basta tirar um elemento aleatório da primeira e colocá-lo na segunda. A segunda lista será uma versão embaralhada da primeira. Para gerar números aleatórios, utilize a função randint do pacote random."
   ]
  },
  {
   "cell_type": "code",
   "execution_count": 32,
   "metadata": {},
   "outputs": [],
   "source": [
    "import random as rn"
   ]
  },
  {
   "cell_type": "code",
   "execution_count": 33,
   "metadata": {
    "scrolled": true
   },
   "outputs": [],
   "source": [
    "#Usando Recursao\n",
    "lst = [5,6,7,9]\n",
    "def embaralha(aux ,  lst):\n",
    "    if not lst: return aux\n",
    "    else :\n",
    "        k = rn.randint(0, len(lst)-1)\n",
    "        aux.append(lst[k])\n",
    "        return embaralha(aux, semElementoK(lst, k))\n",
    "def dequeEmbaralhado(lst):\n",
    "    aux = []\n",
    "    if not lst : return lst\n",
    "    else :\n",
    "        return embaralha(aux, lst)"
   ]
  },
  {
   "cell_type": "code",
   "execution_count": 34,
   "metadata": {},
   "outputs": [
    {
     "name": "stdout",
     "output_type": "stream",
     "text": [
      "[('3', 'p'), ('A', 'o'), ('8', 'e'), ('J', 'o'), ('K', 'e'), ('J', 'p'), ('7', 'c'), ('8', 'o'), ('3', 'e'), ('7', 'o'), ('2', 'o'), ('4', 'e'), ('6', 'c'), ('2', 'c'), ('5', 'o'), ('7', 'e'), ('J', 'e'), ('A', 'c'), ('Q', 'c'), ('6', 'e'), ('8', 'c'), ('9', 'c'), ('3', 'o'), ('3', 'c'), ('4', 'o'), ('9', 'o'), ('A', 'p'), ('10', 'e'), ('K', 'p'), ('A', 'e'), ('10', 'p'), ('4', 'p'), ('5', 'p'), ('Q', 'o'), ('K', 'c'), ('9', 'p'), ('5', 'c'), ('10', 'c'), ('2', 'e'), ('7', 'p'), ('K', 'o'), ('10', 'o'), ('8', 'p'), ('9', 'e'), ('4', 'c'), ('Q', 'p'), ('6', 'o'), ('J', 'c'), ('5', 'e'), ('Q', 'e'), ('2', 'p'), ('6', 'p')]\n"
     ]
    }
   ],
   "source": [
    "print(dequeEmbaralhado(baralho))"
   ]
  },
  {
   "cell_type": "markdown",
   "metadata": {},
   "source": [
    "##### d) Uma mão é uma sequência de cartas. Escreva uma função que, dada uma sequência de cartas na forma de uma lista, produza uma string correspondente à lista de cartas. Exemplo: lista([(&#39;J&#39;,&#39;c&#39;),(&#39;5&#39;,&#39;p&#39;),(&#39;10&#39;,&#39;o&#39;)]) = &#39;Jc 5p 10o&#39;."
   ]
  },
  {
   "cell_type": "code",
   "execution_count": 35,
   "metadata": {},
   "outputs": [],
   "source": [
    "#tupla é uma lista inalteravel \n",
    "lst = [('J','c'),('5','p'),('10','o'), ('6', 'p'), ('3', 'c'), ('Q', 'c')]"
   ]
  },
  {
   "cell_type": "code",
   "execution_count": 36,
   "metadata": {},
   "outputs": [],
   "source": [
    "#Usando recursao\n",
    "\n",
    "def lista(lst):\n",
    "    if lst == [] :\n",
    "        return ''\n",
    "    else : \n",
    "        if len(lst)== 1 : \n",
    "            return lst[0][0]+lst[0][1]+str(lista(lst[1:]))\n",
    "        else: \n",
    "            return lst[0][0]+lst[0][1]+\" \"+str(lista(lst[1:]))"
   ]
  },
  {
   "cell_type": "code",
   "execution_count": 37,
   "metadata": {},
   "outputs": [
    {
     "data": {
      "text/plain": [
       "'6e 10p Ke 7e 4c 7c'"
      ]
     },
     "execution_count": 37,
     "metadata": {},
     "output_type": "execute_result"
    }
   ],
   "source": [
    "lista([('6', 'e'), ('10', 'p'), ('K', 'e'), ('7', 'e'), ('4', 'c'), ('7', 'c')])"
   ]
  },
  {
   "cell_type": "markdown",
   "metadata": {},
   "source": [
    "##### e) Escreva uma função para avaliar uma mão de cartas no jogo blackjack. Neste jogo, as cartas são avaliadas como segue. Rei (K), rainha (Q) e valete (J) valem 10 pontos cada. As cartas 2 a 10 valem seus valores de face (ou seja, a carta 7 vale 7 pontos). A carta Ás (A) vale 1 ou 11 pontos. O valor da mão corresponde à soma dos valores das cartas. Inicialmente, todos os ases na mão valem 11 pontos, cada. Caso a soma dos valores da mão seja maior que 21, todos os ases são avaliados como 1 ponto, cada. Exs: valorMao([(&#39;J&#39;,&#39;c&#39;), (&#39;5&#39;,&#39;p&#39;), (&#39;10&#39;,&#39;o&#39;)]) = 25; valorMao([(&#39;A&#39;,&#39;c&#39;), (&#39;Q&#39;,&#39;p&#39;)]) = 21; valorMao([(&#39;A&#39;,&#39;c&#39;), (&#39;A&#39;,&#39;p&#39;), (&#39;A&#39;,&#39;o&#39;)]) = 3;"
   ]
  },
  {
   "cell_type": "code",
   "execution_count": 49,
   "metadata": {},
   "outputs": [],
   "source": [
    "#Usando recursao\n",
    "\n",
    "def valorMaoInter(lista):\n",
    "    if lista == []:\n",
    "        return 0\n",
    "    if lista[0][0] in ['K', 'Q', 'J']:\n",
    "        return 10 + valorMaoInter(lista[1:])\n",
    "    elif lista[0][0] == 'A':\n",
    "        return 11 + valorMaoInter(lista[1:])\n",
    "    else:\n",
    "        return int(lista[0][0]) + valorMaoInter(lista[1:])\n",
    "def contaAs(mao):\n",
    "    if mao==[]:\n",
    "        return 0\n",
    "    elif mao[0][0] == 'A':\n",
    "        return 1 + contaAs(mao[1:])\n",
    "    else : return contaAs(mao[1:])\n",
    "\n",
    "def valorMao(mao):\n",
    "    valor = valorMaoInter(mao)\n",
    "    if valor > 21:\n",
    "        return valor - 10*contaAs(mao)\n",
    "    else:\n",
    "        return valor\n",
    "    \n",
    "    \n",
    "        "
   ]
  },
  {
   "cell_type": "code",
   "execution_count": 50,
   "metadata": {},
   "outputs": [
    {
     "data": {
      "text/plain": [
       "15"
      ]
     },
     "execution_count": 50,
     "metadata": {},
     "output_type": "execute_result"
    }
   ],
   "source": [
    "valorMao([('A','p'), ('10','o'), ('A','e'), ('3','e')] )"
   ]
  },
  {
   "cell_type": "markdown",
   "metadata": {},
   "source": [
    "##### f) Uma das formas do jogo de blackjack terminar é o usuário ter uma mão com mais de 21 pontos. Crie a função fimJogo(mao) que retorna True caso isso ocorra. Exs: fimJogo([(&#39;J&#39;,&#39;c&#39;), (&#39;5&#39;,&#39;p&#39;), (&#39;10&#39;,&#39;o&#39;)]) = True;"
   ]
  },
  {
   "cell_type": "code",
   "execution_count": 51,
   "metadata": {},
   "outputs": [],
   "source": [
    "#Usando recursao\n",
    "def fimJogo1(mao):\n",
    "    if valorMao(mao) > 21:\n",
    "        return True \n",
    "    else: return False \n",
    "    "
   ]
  },
  {
   "cell_type": "code",
   "execution_count": 52,
   "metadata": {},
   "outputs": [],
   "source": [
    "fimJogo = lambda mao : True if valorMao(mao)>21 else False "
   ]
  },
  {
   "cell_type": "code",
   "execution_count": 53,
   "metadata": {},
   "outputs": [
    {
     "data": {
      "text/plain": [
       "False"
      ]
     },
     "execution_count": 53,
     "metadata": {},
     "output_type": "execute_result"
    }
   ],
   "source": [
    "fimJogo([('10','e'), ('3','p'),('5','o')])"
   ]
  },
  {
   "cell_type": "markdown",
   "metadata": {},
   "source": [
    "##### g) No jogo de blackjack, o adversário do jogador é a mesa (ou a banca). Entre os dois, vence aquele que alcançar o maior número de pontos, desde que menor ou igual a 21. Em caso de empate, vence a mesa, bem como no caso em que ambos excedem os 21 pontos. Escreva a função vencedor(maoJogador, maoMesa) que retorna uma string indicando quem venceu o jogo: &#39;jogador&#39; ou &#39;mesa&#39;. Ex: vencedor([(&#39;10&#39;,&#39;e&#39;), (&#39;K&#39;,&#39;p&#39;)], [(&#39;6&#39;,&#39;p&#39;), (&#39;8&#39;,&#39;o&#39;), (&#39;A&#39;,&#39;e&#39;), (&#39;6&#39;,&#39;e&#39;)]) = &#39;mesa&#39;;"
   ]
  },
  {
   "cell_type": "code",
   "execution_count": 54,
   "metadata": {},
   "outputs": [],
   "source": [
    "#Usando recursao\n",
    "\n",
    "def vencedor(maoJogador, maoMesa):\n",
    "    mesa = valorMao(maoMesa)\n",
    "    jogador = valorMao(maoJogador)\n",
    "    if fimJogo(maoJogador) and fimJogo(maoMesa): return 'mesa'\n",
    "    elif mesa <= 21 and jogador <= 21 :\n",
    "        if jogador > mesa: return 'jogador'\n",
    "        else: return 'mesa'\n",
    "    else :\n",
    "        if fimJogo(maoMesa) : return 'jogador'\n",
    "        else :  return 'mesa'\n",
    "    "
   ]
  },
  {
   "cell_type": "code",
   "execution_count": 55,
   "metadata": {},
   "outputs": [
    {
     "data": {
      "text/plain": [
       "'mesa'"
      ]
     },
     "execution_count": 55,
     "metadata": {},
     "output_type": "execute_result"
    }
   ],
   "source": [
    "vencedor([('5','e'), ('K','p'),('3','o')], [('6','p'), ('8','o'), ('A','e'), ('6','e')])"
   ]
  },
  {
   "cell_type": "markdown",
   "metadata": {},
   "source": [
    "##### h) Descreva a função descartar que, dada uma mão e um deque, retorna a mão acrescida da primeira carta do deque e o deque, sem aquela carta. Ex: descartar([(&#39;10&#39;,&#39;e&#39;), (&#39;K&#39;,&#39;p&#39;)], [(&#39;6&#39;,&#39;p&#39;), (&#39;8&#39;,&#39;o&#39;), (&#39;A&#39;,&#39;e&#39;), (&#39;6&#39;,&#39;e&#39;)]) = ([(&#39;10&#39;,&#39;e&#39;), (&#39;K&#39;,&#39;p&#39;), (&#39;6&#39;,&#39;p&#39;)], [(&#39;8&#39;,&#39;o&#39;), (&#39;A&#39;,&#39;e&#39;), (&#39;6&#39;,&#39;e&#39;)])."
   ]
  },
  {
   "cell_type": "code",
   "execution_count": 56,
   "metadata": {},
   "outputs": [],
   "source": [
    "#Usando recursao\n",
    "def descartar(mao, deque):\n",
    "    mao.append(deque[0])\n",
    "    return mao , deque[1:]"
   ]
  },
  {
   "cell_type": "code",
   "execution_count": 57,
   "metadata": {},
   "outputs": [
    {
     "data": {
      "text/plain": [
       "([('10', 'e'), ('K', 'p'), ('8', 'o')], [('A', 'e'), ('6', 'e')])"
      ]
     },
     "execution_count": 57,
     "metadata": {},
     "output_type": "execute_result"
    }
   ],
   "source": [
    "descartar([('10','e'), ('K','p')], [('8','o'), ('A','e'), ('6','e')])"
   ]
  },
  {
   "cell_type": "markdown",
   "metadata": {},
   "source": [
    "##### i) Descreva a função maoMesa(deque) que, dado um deque, retira dele cartas até que o valor da mão da mesa seja maior que 16. <font color=blue> Use recursão</font>. Ex: maoMesa([(&#39;10&#39;,&#39;e&#39;), (&#39;K&#39;,&#39;p&#39;), [(&#39;6&#39;,&#39;p&#39;), (&#39;8&#39;,&#39;o&#39;), (&#39;A&#39;,&#39;e&#39;), (&#39;6&#39;,&#39;e&#39;)]) = [(&#39;10&#39;,&#39;e&#39;), (&#39;K&#39;,&#39;p&#39;)]."
   ]
  },
  {
   "cell_type": "code",
   "execution_count": 58,
   "metadata": {},
   "outputs": [],
   "source": [
    "#usando recursao\n",
    "def maoMesa1(deque):\n",
    "    valor = valorMao(deque)\n",
    "    if valor > 21:\n",
    "        return maoMesa(semElementoK(deque, len(deque)-1))\n",
    "    else : return deque"
   ]
  },
  {
   "cell_type": "code",
   "execution_count": 59,
   "metadata": {},
   "outputs": [],
   "source": [
    "#usando recursao\n",
    "\n",
    "deque = [('10','e'), ('6','p'), ('6','p'), ('8','o'), ('A','e'), ('6','e')]\n",
    "\n",
    "def maoMesa(deque):\n",
    "    mao_Mesa = []\n",
    "    if deque==[]:\n",
    "        return mao_Mesa\n",
    "    else:\n",
    "        return retira(mao_Mesa, deque)\n",
    "    \n",
    "def retira(mao_Mesa, deque):\n",
    "    if deque ==[]:\n",
    "        return mao_Mesa\n",
    "    mao_Mesa.append(deque[0])\n",
    "    if valorMao(mao_Mesa) < 19:\n",
    "        return retira(mao_Mesa, deque[1:])\n",
    "    else : \n",
    "        return mao_Mesa        "
   ]
  },
  {
   "cell_type": "code",
   "execution_count": 60,
   "metadata": {},
   "outputs": [
    {
     "data": {
      "text/plain": [
       "[('10', 'e'), ('6', 'p'), ('6', 'p')]"
      ]
     },
     "execution_count": 60,
     "metadata": {},
     "output_type": "execute_result"
    }
   ],
   "source": [
    "maoMesa(deque)"
   ]
  },
  {
   "cell_type": "code",
   "execution_count": 61,
   "metadata": {},
   "outputs": [
    {
     "data": {
      "text/plain": [
       "[('10', 'e'), ('K', 'p')]"
      ]
     },
     "execution_count": 61,
     "metadata": {},
     "output_type": "execute_result"
    }
   ],
   "source": [
    "maoMesa1([('10','e'), ('K','p'), ('6','p'), ('8','o'), ('A','e'), ('6','e')])"
   ]
  },
  {
   "cell_type": "markdown",
   "metadata": {},
   "source": [
    "##### j) No jogo de blackjack, o jogador aposta com a mesa pra ver quem alcança o valor maispróximo de 21 pontos. Enquanto o valor na sua mão for menor que 21, o jogador pode tirar quantas cartas quiser. Se ele decide parar de descartar ou soma mais que 21, a mesa pode começar a jogar. Considerando a estratégia descrita em (i), a mesa irá descartar até atingir um valor maior que 16, quando irá parar. Neste momento, usando a descrição feita em (g), é possível determinar o vencedor do jogo. Portanto, o código do jogo pode ser completado pelas seguintes funções em Python:"
   ]
  },
  {
   "cell_type": "code",
   "execution_count": 62,
   "metadata": {},
   "outputs": [],
   "source": [
    "def blackjack():\n",
    "    print('Bem vindo ao jogo de blackjack!')\n",
    "    loopJogo([], dequeEmbaralhado(baralho))\n",
    "\n",
    "\n",
    "def loopJogo(mao, deque):\n",
    "    print('Sua mao: [', lista(mao),'] =', valorMao(mao))\n",
    "    if fimJogo(mao):\n",
    "        fim(mao, maoMesa(deque));\n",
    "    else:\n",
    "        resp = input('Quer outra carta? [s]')\n",
    "        if not resp or resp in ['s', 'S']:\n",
    "            loopJogo(*descartar(mao, deque)) # tupla expandida em 2 argumentos\n",
    "        else:\n",
    "            fim(mao, maoMesa(deque))\n",
    "\n",
    "                        \n",
    "def fim(maoJogador, maoMesa):\n",
    "    print('Mao da mesa: [', lista(maoMesa), '] =', valorMao(maoMesa))\n",
    "    print('Vencedor:', vencedor(maoJogador, maoMesa))"
   ]
  },
  {
   "cell_type": "code",
   "execution_count": 63,
   "metadata": {},
   "outputs": [
    {
     "name": "stdout",
     "output_type": "stream",
     "text": [
      "Bem vindo ao jogo de blackjack!\n",
      "Sua mao: [  ] = 0\n",
      "Quer outra carta? [s]s\n",
      "Sua mao: [ 5p ] = 5\n",
      "Quer outra carta? [s]s\n",
      "Sua mao: [ 5p 4p ] = 9\n",
      "Quer outra carta? [s]s\n",
      "Sua mao: [ 5p 4p 2o ] = 11\n",
      "Quer outra carta? [s]s\n",
      "Sua mao: [ 5p 4p 2o 10c ] = 21\n",
      "Quer outra carta? [s]s\n",
      "Sua mao: [ 5p 4p 2o 10c 3c ] = 24\n",
      "Mao da mesa: [ Je 7o 2p ] = 19\n",
      "Vencedor: mesa\n"
     ]
    }
   ],
   "source": [
    "blackjack()"
   ]
  },
  {
   "cell_type": "code",
   "execution_count": null,
   "metadata": {},
   "outputs": [],
   "source": [
    "#--> uma forma de mudar a estratégia é colocar que a mesa pegue ou retire \n",
    "#carta ate que ela tenha um valor de mão o mais próximo de 21, só nesse caso ela nunca vai ultrapassar 21\n",
    "\n",
    "# colocar maior que 19 , chega muito perto de 21ou seja , pode ser 20, 21  ou mais ..."
   ]
  }
 ],
 "metadata": {
  "kernelspec": {
   "display_name": "Python 3",
   "language": "python",
   "name": "python3"
  },
  "language_info": {
   "codemirror_mode": {
    "name": "ipython",
    "version": 3
   },
   "file_extension": ".py",
   "mimetype": "text/x-python",
   "name": "python",
   "nbconvert_exporter": "python",
   "pygments_lexer": "ipython3",
   "version": "3.7.3"
  }
 },
 "nbformat": 4,
 "nbformat_minor": 2
}
